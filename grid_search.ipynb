## Hyperparameter tuning using Grid SearchCV
def hyperparameter_tuning(X_train,y_train,param_grid):
    rf=RandomForestRegressor()
    grid_search=GridSearchCV(estimator=rf,param_grid=param_grid,cv=3,n_jobs=-1,verbose=2,
                             scoring="neg_mean_squared_error")
    
    grid_search.fit(X_train,y_train)
    return grid_search
