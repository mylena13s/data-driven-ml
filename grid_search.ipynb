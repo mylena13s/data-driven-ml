{
 "cells": [
  {
   "cell_type": "markdown",
   "metadata": {},
   "source": [
    "Exemplos básicos do conteúdo do curso: Machine Learning "
   ]
  },
  {
   "cell_type": "code",
   "execution_count": null,
   "metadata": {},
   "outputs": [],
   "source": [
    "import pandas as pd\n",
    "import mlflow\n",
    "import mlflow.sklearn\n",
    "from sklearn.ensemble import RandomForestRegressor\n",
    "from sklearn.model_selection import train_test_split,GridSearchCV\n",
    "\n",
    "\n",
    "# Função para ajuste de hiperparâmetros\n",
    "def hyperparameter_tuning(X_train, y_train, param_grid):\n",
    "    rf = RandomForestRegressor()  # Modelo base\n",
    "    grid_search = GridSearchCV(\n",
    "        estimator=rf,\n",
    "        param_grid=param_grid,\n",
    "        cv=3,  # Validação cruzada com 3 divisões\n",
    "        n_jobs=-1,  # Uso de múltiplos núcleos\n",
    "        verbose=2,  # Saída detalhada\n",
    "        scoring=\"neg_mean_squared_error\"  # Métrica de avaliação\n",
    "    )\n",
    "    grid_search.fit(X_train, y_train)  # Treinamento com validação cruzada\n",
    "    return grid_search  # Retorna o objeto com os melhores parâmetros\n"
   ]
  }
 ],
 "metadata": {
  "language_info": {
   "name": "python"
  }
 },
 "nbformat": 4,
 "nbformat_minor": 2
}
